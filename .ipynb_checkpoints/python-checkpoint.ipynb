{
 "cells": [
  {
   "cell_type": "code",
   "execution_count": 70,
   "metadata": {},
   "outputs": [
    {
     "name": "stdout",
     "output_type": "stream",
     "text": [
      "The value for x is: 10  (should be 10)\n",
      "The value for y is: 80  (should be 80)\n",
      "The value for z is: 6240  (should be 6240)\n"
     ]
    }
   ],
   "source": [
    "# PYTHON: write a function that takes an input, subtracts 1 from it, squares it,and subtracts 1 again\n",
    "# then run the code below: write function here\n",
    "\n",
    "def math_fxn(x):\n",
    "    return(((x-1)**2)-1)\n",
    "    \n",
    "x = 10    \n",
    "y = math_fxn(x)\n",
    "z = math_fxn(y)\n",
    "\n",
    "print('The value for x is:', x, ' (should be 10)')\n",
    "print('The value for y is:', y, ' (should be 80)')\n",
    "print('The value for z is:', z, ' (should be 6240)')"
   ]
  }
 ],
 "metadata": {
  "kernelspec": {
   "display_name": "Python 3",
   "language": "python",
   "name": "python3"
  },
  "language_info": {
   "codemirror_mode": {
    "name": "ipython",
    "version": 3
   },
   "file_extension": ".py",
   "mimetype": "text/x-python",
   "name": "python",
   "nbconvert_exporter": "python",
   "pygments_lexer": "ipython3",
   "version": "3.7.3"
  }
 },
 "nbformat": 4,
 "nbformat_minor": 2
}
